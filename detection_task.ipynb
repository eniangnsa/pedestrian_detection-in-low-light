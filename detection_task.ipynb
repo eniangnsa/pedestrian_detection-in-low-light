{
 "cells": [
  {
   "cell_type": "code",
   "execution_count": 1,
   "id": "cc65ec46",
   "metadata": {},
   "outputs": [
    {
     "data": {
      "text/plain": [
       "(8417, 3608)"
      ]
     },
     "execution_count": 1,
     "metadata": {},
     "output_type": "execute_result"
    }
   ],
   "source": [
    "import supervision as sv\n",
    "\n",
    "ds = sv.DetectionDataset.from_pascal_voc(\n",
    "    images_directory_path=f\"LLVIP/LLVIP/visible/train\",\n",
    "    annotations_directory_path=f\"LLVIP/LLVIP/Annotations\"\n",
    ")\n",
    "\n",
    "train_ds, test_ds = ds.split(split_ratio=0.7,\n",
    "                             random_state=42, shuffle=True)\n",
    "len(train_ds), len(test_ds)"
   ]
  },
  {
   "cell_type": "code",
   "execution_count": 2,
   "id": "4dfdbf98",
   "metadata": {},
   "outputs": [],
   "source": [
    "import os\n",
    "# Define directories for your YOLO dataset\n",
    "yolo_dataset_dir = \"LLVIP_YOLO_Dataset\"\n",
    "train_images_dir = os.path.join(yolo_dataset_dir, \"images\", \"train\")\n",
    "train_labels_dir = os.path.join(yolo_dataset_dir, \"labels\", \"train\")\n",
    "test_images_dir = os.path.join(yolo_dataset_dir, \"images\", \"test\")\n",
    "test_labels_dir = os.path.join(yolo_dataset_dir, \"labels\", \"test\")"
   ]
  },
  {
   "cell_type": "code",
   "execution_count": 3,
   "id": "1bc288df",
   "metadata": {},
   "outputs": [],
   "source": [
    "# Create directories\n",
    "os.makedirs(train_images_dir, exist_ok=True)\n",
    "os.makedirs(train_labels_dir, exist_ok=True)\n",
    "os.makedirs(test_images_dir, exist_ok=True)\n",
    "os.makedirs(test_labels_dir, exist_ok=True)\n"
   ]
  },
  {
   "cell_type": "code",
   "execution_count": 4,
   "id": "1c9926f8",
   "metadata": {},
   "outputs": [],
   "source": [
    "# Export train_ds\n",
    "# Call as_yolo directly on the train_ds object\n",
    "train_ds.as_yolo(\n",
    "    images_directory_path=train_images_dir,\n",
    "    annotations_directory_path=train_labels_dir,\n",
    "    min_image_area_percentage=0.0,\n",
    "    max_image_area_percentage=1.0,\n",
    "    # The class_map will be derived from train_ds.classes automatically\n",
    ")"
   ]
  },
  {
   "cell_type": "code",
   "execution_count": 5,
   "id": "68f16046",
   "metadata": {},
   "outputs": [],
   "source": [
    "# Export test_ds\n",
    "# Call as_yolo directly on the test_ds object\n",
    "test_ds.as_yolo(\n",
    "    images_directory_path=test_images_dir,\n",
    "    annotations_directory_path=test_labels_dir,\n",
    "    min_image_area_percentage=0.0,\n",
    "    max_image_area_percentage=1.0,\n",
    ")"
   ]
  },
  {
   "cell_type": "code",
   "execution_count": 6,
   "id": "a25ba54f",
   "metadata": {},
   "outputs": [
    {
     "name": "stdout",
     "output_type": "stream",
     "text": [
      "YOLO dataset prepared at: LLVIP_YOLO_Dataset\n",
      "Data YAML file created at: LLVIP_YOLO_Dataset\\data.yaml\n"
     ]
    }
   ],
   "source": [
    "# Create a data.yaml file (crucial for YOLOv8)\n",
    "# This file tells YOLOv8 where your data is and what classes you have.\n",
    "data_yaml_path = os.path.join(yolo_dataset_dir, \"data.yaml\")\n",
    "with open(data_yaml_path, 'w') as f:\n",
    "    f.write(f\"path: {os.path.abspath(yolo_dataset_dir)}\\n\")\n",
    "    f.write(\"train: images/train\\n\")\n",
    "    f.write(\"val: images/test\\n\") # YOLOv8 uses 'val' for validation/testing\n",
    "    f.write(f\"nc: {len(train_ds.classes)}\\n\") # Number of classes\n",
    "    f.write(\"names:\\n\")\n",
    "    for i, class_name in enumerate(train_ds.classes):\n",
    "        f.write(f\"  {i}: {class_name}\\n\")\n",
    "\n",
    "print(f\"YOLO dataset prepared at: {yolo_dataset_dir}\")\n",
    "print(f\"Data YAML file created at: {data_yaml_path}\")"
   ]
  },
  {
   "cell_type": "code",
   "execution_count": 7,
   "id": "07fadf83",
   "metadata": {},
   "outputs": [
    {
     "name": "stdout",
     "output_type": "stream",
     "text": [
      "New https://pypi.org/project/ultralytics/8.3.150 available  Update with 'pip install -U ultralytics'\n",
      "Ultralytics 8.3.149  Python-3.11.9 torch-2.7.0+cpu CPU (AMD Athlon 3000G with Radeon Vega Graphics)\n",
      "\u001b[34m\u001b[1mengine\\trainer: \u001b[0magnostic_nms=False, amp=True, augment=False, auto_augment=randaugment, batch=16, bgr=0.0, box=7.5, cache=False, cfg=None, classes=None, close_mosaic=10, cls=0.5, conf=None, copy_paste=0.0, copy_paste_mode=flip, cos_lr=False, cutmix=0.0, data=LLVIP_YOLO_Dataset/data.yaml, degrees=0.0, deterministic=True, device=cpu, dfl=1.5, dnn=False, dropout=0.0, dynamic=False, embed=None, epochs=1, erasing=0.4, exist_ok=False, fliplr=0.5, flipud=0.0, format=torchscript, fraction=1.0, freeze=None, half=False, hsv_h=0.015, hsv_s=0.7, hsv_v=0.4, imgsz=640, int8=False, iou=0.7, keras=False, kobj=1.0, line_width=None, lr0=0.01, lrf=0.01, mask_ratio=4, max_det=300, mixup=0.0, mode=train, model=yolov8n.pt, momentum=0.937, mosaic=1.0, multi_scale=False, name=LLVIP_YOLOv8_model5, nbs=64, nms=False, opset=None, optimize=False, optimizer=auto, overlap_mask=True, patience=100, perspective=0.0, plots=True, pose=12.0, pretrained=True, profile=False, project=None, rect=False, resume=False, retina_masks=False, save=True, save_conf=False, save_crop=False, save_dir=runs\\detect\\LLVIP_YOLOv8_model5, save_frames=False, save_json=False, save_period=-1, save_txt=False, scale=0.5, seed=0, shear=0.0, show=False, show_boxes=True, show_conf=True, show_labels=True, simplify=True, single_cls=False, source=None, split=val, stream_buffer=False, task=detect, time=None, tracker=botsort.yaml, translate=0.1, val=True, verbose=True, vid_stride=1, visualize=False, warmup_bias_lr=0.1, warmup_epochs=3.0, warmup_momentum=0.8, weight_decay=0.0005, workers=8, workspace=None\n",
      "Overriding model.yaml nc=80 with nc=1\n",
      "\n",
      "                   from  n    params  module                                       arguments                     \n",
      "  0                  -1  1       464  ultralytics.nn.modules.conv.Conv             [3, 16, 3, 2]                 \n",
      "  1                  -1  1      4672  ultralytics.nn.modules.conv.Conv             [16, 32, 3, 2]                \n",
      "  2                  -1  1      7360  ultralytics.nn.modules.block.C2f             [32, 32, 1, True]             \n",
      "  3                  -1  1     18560  ultralytics.nn.modules.conv.Conv             [32, 64, 3, 2]                \n",
      "  4                  -1  2     49664  ultralytics.nn.modules.block.C2f             [64, 64, 2, True]             \n",
      "  5                  -1  1     73984  ultralytics.nn.modules.conv.Conv             [64, 128, 3, 2]               \n",
      "  6                  -1  2    197632  ultralytics.nn.modules.block.C2f             [128, 128, 2, True]           \n",
      "  7                  -1  1    295424  ultralytics.nn.modules.conv.Conv             [128, 256, 3, 2]              \n",
      "  8                  -1  1    460288  ultralytics.nn.modules.block.C2f             [256, 256, 1, True]           \n",
      "  9                  -1  1    164608  ultralytics.nn.modules.block.SPPF            [256, 256, 5]                 \n",
      " 10                  -1  1         0  torch.nn.modules.upsampling.Upsample         [None, 2, 'nearest']          \n",
      " 11             [-1, 6]  1         0  ultralytics.nn.modules.conv.Concat           [1]                           \n",
      " 12                  -1  1    148224  ultralytics.nn.modules.block.C2f             [384, 128, 1]                 \n",
      " 13                  -1  1         0  torch.nn.modules.upsampling.Upsample         [None, 2, 'nearest']          \n",
      " 14             [-1, 4]  1         0  ultralytics.nn.modules.conv.Concat           [1]                           \n",
      " 15                  -1  1     37248  ultralytics.nn.modules.block.C2f             [192, 64, 1]                  \n",
      " 16                  -1  1     36992  ultralytics.nn.modules.conv.Conv             [64, 64, 3, 2]                \n",
      " 17            [-1, 12]  1         0  ultralytics.nn.modules.conv.Concat           [1]                           \n",
      " 18                  -1  1    123648  ultralytics.nn.modules.block.C2f             [192, 128, 1]                 \n",
      " 19                  -1  1    147712  ultralytics.nn.modules.conv.Conv             [128, 128, 3, 2]              \n",
      " 20             [-1, 9]  1         0  ultralytics.nn.modules.conv.Concat           [1]                           \n",
      " 21                  -1  1    493056  ultralytics.nn.modules.block.C2f             [384, 256, 1]                 \n",
      " 22        [15, 18, 21]  1    751507  ultralytics.nn.modules.head.Detect           [1, [64, 128, 256]]           \n",
      "Model summary: 129 layers, 3,011,043 parameters, 3,011,027 gradients, 8.2 GFLOPs\n",
      "\n",
      "Transferred 319/355 items from pretrained weights\n",
      "Freezing layer 'model.22.dfl.conv.weight'\n",
      "\u001b[34m\u001b[1mtrain: \u001b[0mFast image access  (ping: 0.10.0 ms, read: 14.76.3 MB/s, size: 155.0 KB)\n"
     ]
    },
    {
     "name": "stderr",
     "output_type": "stream",
     "text": [
      "\u001b[34m\u001b[1mtrain: \u001b[0mScanning C:\\Users\\SCII1\\Desktop\\pedestrian_detection in low-light\\LLVIP_YOLO_Dataset\\labels\\train.cache... 8417 images, 4019 backgrounds, 0 corrupt: 100%|██████████| 8417/8417 [00:00<?, ?it/s]"
     ]
    },
    {
     "name": "stdout",
     "output_type": "stream",
     "text": [
      "\u001b[34m\u001b[1mval: \u001b[0mFast image access  (ping: 0.10.0 ms, read: 20.112.0 MB/s, size: 207.1 KB)\n"
     ]
    },
    {
     "name": "stderr",
     "output_type": "stream",
     "text": [
      "\n",
      "UserWarning: 'pin_memory' argument is set as true but no accelerator is found, then device pinned memory won't be used.\n",
      "\u001b[34m\u001b[1mval: \u001b[0mScanning C:\\Users\\SCII1\\Desktop\\pedestrian_detection in low-light\\LLVIP_YOLO_Dataset\\labels\\test.cache... 3608 images, 1692 backgrounds, 0 corrupt: 100%|██████████| 3608/3608 [00:00<?, ?it/s]\n",
      "UserWarning: 'pin_memory' argument is set as true but no accelerator is found, then device pinned memory won't be used.\n"
     ]
    },
    {
     "name": "stdout",
     "output_type": "stream",
     "text": [
      "Plotting labels to runs\\detect\\LLVIP_YOLOv8_model5\\labels.jpg... \n",
      "\u001b[34m\u001b[1moptimizer:\u001b[0m 'optimizer=auto' found, ignoring 'lr0=0.01' and 'momentum=0.937' and determining best 'optimizer', 'lr0' and 'momentum' automatically... \n",
      "\u001b[34m\u001b[1moptimizer:\u001b[0m AdamW(lr=0.002, momentum=0.9) with parameter groups 57 weight(decay=0.0), 64 weight(decay=0.0005), 63 bias(decay=0.0)\n",
      "Image sizes 640 train, 640 val\n",
      "Using 0 dataloader workers\n",
      "Logging results to \u001b[1mruns\\detect\\LLVIP_YOLOv8_model5\u001b[0m\n",
      "Starting training for 1 epochs...\n",
      "\n",
      "      Epoch    GPU_mem   box_loss   cls_loss   dfl_loss  Instances       Size\n"
     ]
    },
    {
     "name": "stderr",
     "output_type": "stream",
     "text": [
      "        1/1         0G      1.942      2.504      1.509          0        640: 100%|██████████| 527/527 [1:40:33<00:00, 11.45s/it]\n",
      "                 Class     Images  Instances      Box(P          R      mAP50  mAP50-95): 100%|██████████| 113/113 [13:33<00:00,  7.20s/it]\n"
     ]
    },
    {
     "name": "stdout",
     "output_type": "stream",
     "text": [
      "                   all       3608       4493      0.646       0.52      0.548      0.232\n",
      "\n",
      "1 epochs completed in 1.903 hours.\n",
      "Optimizer stripped from runs\\detect\\LLVIP_YOLOv8_model5\\weights\\last.pt, 6.2MB\n",
      "Optimizer stripped from runs\\detect\\LLVIP_YOLOv8_model5\\weights\\best.pt, 6.2MB\n",
      "\n",
      "Validating runs\\detect\\LLVIP_YOLOv8_model5\\weights\\best.pt...\n",
      "Ultralytics 8.3.149  Python-3.11.9 torch-2.7.0+cpu CPU (AMD Athlon 3000G with Radeon Vega Graphics)\n",
      "Model summary (fused): 72 layers, 3,005,843 parameters, 0 gradients, 8.1 GFLOPs\n"
     ]
    },
    {
     "name": "stderr",
     "output_type": "stream",
     "text": [
      "                 Class     Images  Instances      Box(P          R      mAP50  mAP50-95): 100%|██████████| 113/113 [11:20<00:00,  6.02s/it]\n"
     ]
    },
    {
     "name": "stdout",
     "output_type": "stream",
     "text": [
      "                   all       3608       4493      0.647      0.519      0.547      0.231\n",
      "Speed: 2.6ms preprocess, 170.2ms inference, 0.0ms loss, 2.3ms postprocess per image\n",
      "Results saved to \u001b[1mruns\\detect\\LLVIP_YOLOv8_model5\u001b[0m\n"
     ]
    }
   ],
   "source": [
    "from ultralytics import YOLO\n",
    "\n",
    "# Load a pre-trained YOLOv8n (nano) model. You can choose other models like 'yolov8s.pt' (small), 'yolov8m.pt' (medium), etc.\n",
    "# 'n' is the smallest and fastest, good for quick testing.\n",
    "model = YOLO('yolov8n.pt')\n",
    "\n",
    "# Train the model\n",
    "# The 'data' argument points to your data.yaml file\n",
    "# 'epochs' is the number of training iterations\n",
    "# 'imgsz' is the input image size (e.g., 640x640 pixels)\n",
    "# 'batch' is the number of images processed per training step (adjust based on GPU memory)\n",
    "results = model.train(data='LLVIP_YOLO_Dataset/data.yaml', epochs=1, imgsz=640, batch=16, name='LLVIP_YOLOv8_model')\n",
    "\n",
    "# The training results (weights, logs, etc.) will be saved in a directory like 'runs/detect/LLVIP_YOLOv8_modelX'"
   ]
  },
  {
   "cell_type": "code",
   "execution_count": 8,
   "id": "4581803c",
   "metadata": {},
   "outputs": [],
   "source": [
    "import pandas as pd"
   ]
  },
  {
   "cell_type": "code",
   "execution_count": 10,
   "id": "9cf3d379",
   "metadata": {},
   "outputs": [
    {
     "name": "stdout",
     "output_type": "stream",
     "text": [
      "Ultralytics 8.3.149  Python-3.11.9 torch-2.7.0+cpu CPU (AMD Athlon 3000G with Radeon Vega Graphics)\n",
      "Model summary (fused): 72 layers, 3,005,843 parameters, 0 gradients, 8.1 GFLOPs\n",
      "\u001b[34m\u001b[1mval: \u001b[0mFast image access  (ping: 0.10.0 ms, read: 411.8254.0 MB/s, size: 157.8 KB)\n"
     ]
    },
    {
     "name": "stderr",
     "output_type": "stream",
     "text": [
      "\u001b[34m\u001b[1mval: \u001b[0mScanning C:\\Users\\SCII1\\Desktop\\pedestrian_detection in low-light\\LLVIP_YOLO_Dataset\\labels\\test.cache... 3608 images, 1692 backgrounds, 0 corrupt: 100%|██████████| 3608/3608 [00:00<?, ?it/s]\n",
      "UserWarning: 'pin_memory' argument is set as true but no accelerator is found, then device pinned memory won't be used.\n",
      "                 Class     Images  Instances      Box(P          R      mAP50  mAP50-95): 100%|██████████| 226/226 [10:44<00:00,  2.85s/it]\n"
     ]
    },
    {
     "name": "stdout",
     "output_type": "stream",
     "text": [
      "                   all       3608       4493      0.647      0.519      0.547      0.231\n",
      "Speed: 1.9ms preprocess, 161.6ms inference, 0.0ms loss, 2.4ms postprocess per image\n",
      "Results saved to \u001b[1mruns\\detect\\val4\u001b[0m\n",
      "mAP50-95: 0.23149518645241662\n",
      "mAP50: 0.5473784370984691\n",
      "mAP75: 0.14411558032462618\n",
      "Recall: [    0.51903]\n"
     ]
    }
   ],
   "source": [
    "from ultralytics import YOLO\n",
    "# Load the best trained model weights\n",
    "# Replace 'path/to/your/best.pt' with the actual path to the best.pt file found in your training run directory\n",
    "# Example: 'runs/detect/LLVIP_YOLOv8_model/weights/best.pt'\n",
    "model_path = 'runs/detect/LLVIP_YOLOv8_model3/weights/best.pt' # Adjust this path\n",
    "model = YOLO(model_path)\n",
    "\n",
    "# Evaluate the model on the validation/test set\n",
    "# 'data' points to your data.yaml\n",
    "metrics = model.val(data='LLVIP_YOLO_Dataset/data.yaml')\n",
    "\n",
    "# Print metrics\n",
    "print(f\"mAP50-95: {metrics.box.map}\")\n",
    "print(f\"mAP50: {metrics.box.map50}\")\n",
    "print(f\"mAP75: {metrics.box.map75}\")\n",
    "print(f\"Precision: {metrics.box.p}\")\n",
    "print(f\"Recall: {metrics.box.r}\")"
   ]
  },
  {
   "cell_type": "code",
   "execution_count": null,
   "id": "ba4257d0",
   "metadata": {},
   "outputs": [],
   "source": []
  }
 ],
 "metadata": {
  "kernelspec": {
   "display_name": ".venv",
   "language": "python",
   "name": "python3"
  },
  "language_info": {
   "codemirror_mode": {
    "name": "ipython",
    "version": 3
   },
   "file_extension": ".py",
   "mimetype": "text/x-python",
   "name": "python",
   "nbconvert_exporter": "python",
   "pygments_lexer": "ipython3",
   "version": "3.11.9"
  }
 },
 "nbformat": 4,
 "nbformat_minor": 5
}
