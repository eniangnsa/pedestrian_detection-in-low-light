{
 "cells": [
  {
   "cell_type": "markdown",
   "id": "4b684a3d",
   "metadata": {},
   "source": [
    "#### this is an experimental script to test an hypothesis."
   ]
  },
  {
   "cell_type": "code",
   "execution_count": null,
   "id": "4d68cdbb",
   "metadata": {},
   "outputs": [],
   "source": [
    "import supervision as sv\n",
    "\n",
    "ds = sv.DetectionDataset.from_pascal_voc(\n",
    "    images_directory_path=f\"LLVIP/infrared/train\",\n",
    "    annotations_directory_path=f\"LLVIP/Annotations\"\n",
    ")\n",
    "\n",
    "train_ds, test_ds = ds.split(split_ratio=0.7,\n",
    "                             random_state=42, shuffle=True)\n",
    "len(train_ds), len(test_ds)"
   ]
  },
  {
   "cell_type": "code",
   "execution_count": null,
   "id": "7f237166",
   "metadata": {},
   "outputs": [],
   "source": [
    "import os\n",
    "# Define directories for your YOLO dataset\n",
    "yolo_dataset_dir = \"LLVIP_YOLO_Dataset_Infrared\"\n",
    "train_images_dir = os.path.join(yolo_dataset_dir, \"images\", \"train\")\n",
    "train_labels_dir = os.path.join(yolo_dataset_dir, \"labels\", \"train\")\n",
    "test_images_dir = os.path.join(yolo_dataset_dir, \"images\", \"test\")\n",
    "test_labels_dir = os.path.join(yolo_dataset_dir, \"labels\", \"test\")"
   ]
  },
  {
   "cell_type": "code",
   "execution_count": null,
   "id": "ee42e314",
   "metadata": {},
   "outputs": [],
   "source": [
    "# Create directories\n",
    "os.makedirs(train_images_dir, exist_ok=True)\n",
    "os.makedirs(train_labels_dir, exist_ok=True)\n",
    "os.makedirs(test_images_dir, exist_ok=True)\n",
    "os.makedirs(test_labels_dir, exist_ok=True)\n"
   ]
  },
  {
   "cell_type": "code",
   "execution_count": null,
   "id": "d7d6d7d5",
   "metadata": {},
   "outputs": [],
   "source": [
    "# Export train_ds\n",
    "# Call as_yolo directly on the train_ds object\n",
    "train_ds.as_yolo(\n",
    "    images_directory_path=train_images_dir,\n",
    "    annotations_directory_path=train_labels_dir,\n",
    "    min_image_area_percentage=0.0,\n",
    "    max_image_area_percentage=1.0,\n",
    "    # The class_map will be derived from train_ds.classes automatically\n",
    ")"
   ]
  },
  {
   "cell_type": "code",
   "execution_count": null,
   "id": "3917d100",
   "metadata": {},
   "outputs": [],
   "source": [
    "# Export test_ds\n",
    "# Call as_yolo directly on the test_ds object\n",
    "test_ds.as_yolo(\n",
    "    images_directory_path=test_images_dir,\n",
    "    annotations_directory_path=test_labels_dir,\n",
    "    min_image_area_percentage=0.0,\n",
    "    max_image_area_percentage=1.0,\n",
    ")"
   ]
  },
  {
   "cell_type": "code",
   "execution_count": null,
   "id": "44970a7b",
   "metadata": {},
   "outputs": [],
   "source": [
    "# Create a data.yaml file (crucial for YOLOv8)\n",
    "# This file tells YOLOv8 where your data is and what classes you have.\n",
    "data_yaml_path = os.path.join(yolo_dataset_dir, \"data.yaml\")\n",
    "with open(data_yaml_path, 'w') as f:\n",
    "    f.write(f\"path: {os.path.abspath(yolo_dataset_dir)}\\n\")\n",
    "    f.write(\"train: images/train\\n\")\n",
    "    f.write(\"val: images/test\\n\") # YOLOv8 uses 'val' for validation/testing\n",
    "    f.write(f\"nc: {len(train_ds.classes)}\\n\") # Number of classes\n",
    "    f.write(\"names:\\n\")\n",
    "    for i, class_name in enumerate(train_ds.classes):\n",
    "        f.write(f\"  {i}: {class_name}\\n\")\n",
    "\n",
    "print(f\"YOLO dataset prepared at: {yolo_dataset_dir}\")\n",
    "print(f\"Data YAML file created at: {data_yaml_path}\")"
   ]
  },
  {
   "cell_type": "code",
   "execution_count": null,
   "metadata": {},
   "outputs": [],
   "source": [
    "from ultralytics import YOLO\n",
    "\n",
    "# Load a pre-trained YOLOv8n (nano) model. You can choose other models like 'yolov8s.pt' (small), 'yolov8m.pt' (medium), etc.\n",
    "# 'n' is the smallest and fastest, good for quick testing.\n",
    "model = YOLO('yolov8n.pt')\n",
    "\n",
    "# Train the model\n",
    "\n",
    "results = model.train(data='LLVIP_YOLO_Dataset/data.yaml', epochs=100, imgsz=640, batch=16, name='LLVIP_YOLOv8_model', freeze=5)\n",
    "\n",
    "# The training results (weights, logs, etc.) will be saved in a directory like 'runs/detect/LLVIP_YOLOv8_modelX'"
   ]
  },
  {
   "cell_type": "code",
   "execution_count": null,
   "id": "8fe561e7",
   "metadata": {},
   "outputs": [],
   "source": [
    "from ultralytics import YOLO\n",
    "# Load the best trained model weights\n",
    "model_path = 'runs/detect/LLVIP_YOLOv8_model4/weights/best.pt' # Adjust this path\n",
    "model = YOLO(model_path)\n",
    "\n",
    "# Evaluate the model on the validation/test set\n",
    "# 'data' points to your data.yaml\n",
    "metrics = model.val(data='LLVIP_YOLO_Dataset_Infrared/data.yaml')\n",
    "\n",
    "# Print metrics\n",
    "print(f\"mAP50-95: {metrics.box.map}\")\n",
    "print(f\"mAP50: {metrics.box.map50}\")\n",
    "print(f\"mAP75: {metrics.box.map75}\")\n",
    "print(f\"Precision: {metrics.box.p}\")\n",
    "print(f\"Recall: {metrics.box.r}\")"
   ]
  },
  {
   "cell_type": "code",
   "execution_count": null,
   "id": "d85bf072",
   "metadata": {},
   "outputs": [],
   "source": []
  },
  {
   "cell_type": "code",
   "execution_count": null,
   "id": "4ab37935",
   "metadata": {},
   "outputs": [],
   "source": []
  }
 ],
 "metadata": {
  "language_info": {
   "name": "python"
  }
 },
 "nbformat": 4,
 "nbformat_minor": 5
}
