{
 "cells": [
  {
   "cell_type": "code",
   "execution_count": 1,
   "id": "4d42c898",
   "metadata": {},
   "outputs": [],
   "source": [
    "import tensorflow as tf\n",
    "from tensorflow import keras\n",
    "from tensorflow.keras import layers\n",
    "from tensorflow.keras.applications import MobileNetV2 # Import MobileNetV2 for pre-trained backbone\n",
    "import numpy as np\n",
    "import os\n",
    "import xml.etree.ElementTree as ET # For parsing XML annotations"
   ]
  },
  {
   "cell_type": "code",
   "execution_count": null,
   "id": "d0a699a2",
   "metadata": {},
   "outputs": [],
   "source": []
  }
 ],
 "metadata": {
  "kernelspec": {
   "display_name": ".venv",
   "language": "python",
   "name": "python3"
  },
  "language_info": {
   "codemirror_mode": {
    "name": "ipython",
    "version": 3
   },
   "file_extension": ".py",
   "mimetype": "text/x-python",
   "name": "python",
   "nbconvert_exporter": "python",
   "pygments_lexer": "ipython3",
   "version": "3.11.9"
  }
 },
 "nbformat": 4,
 "nbformat_minor": 5
}
